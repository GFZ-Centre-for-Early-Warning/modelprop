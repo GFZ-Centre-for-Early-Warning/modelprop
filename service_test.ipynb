{
 "cells": [
  {
   "cell_type": "code",
   "execution_count": 1,
   "metadata": {},
   "outputs": [],
   "source": [
    "%load_ext autoreload\n",
    "%autoreload 2\n",
    "import warnings; warnings.filterwarnings(\"ignore\")"
   ]
  },
  {
   "cell_type": "code",
   "execution_count": 1,
   "metadata": {},
   "outputs": [],
   "source": [
    "%matplotlib inline\n",
    "import os\n",
    "import pandas as pd\n",
    "import matplotlib\n",
    "import matplotlib.pyplot as plt\n",
    "\n",
    "\n",
    "import modelprop\n",
    "\n"
   ]
  },
  {
   "cell_type": "markdown",
   "metadata": {},
   "source": [
    "### Test ModelProp "
   ]
  },
  {
   "cell_type": "code",
   "execution_count": 248,
   "metadata": {},
   "outputs": [
    {
     "data": {
      "text/plain": [
       "0"
      ]
     },
     "execution_count": 248,
     "metadata": {},
     "output_type": "execute_result"
    }
   ],
   "source": [
    "\n",
    "from argparse import Namespace\n",
    "args = Namespace(schema='SARA_v1.0',assetcategory='buildings',\n",
    " losscategory='structural',taxonomies='[\"RCPC1\"]')\n",
    "\n",
    "model = modelprop.Main(args)\n",
    "model.run()"
   ]
  },
  {
   "cell_type": "code",
   "execution_count": 250,
   "metadata": {},
   "outputs": [
    {
     "data": {
      "text/plain": [
       "{'id': 'SARA_v1.0',\n",
       " 'assetCategory': 'buildings',\n",
       " 'lossCategory': 'structural',\n",
       " 'taxonomy_source': 'GEM',\n",
       " 'damage_states': 'HAZUS',\n",
       " 'format': 'continuous',\n",
       " 'shape': 'logncdf',\n",
       " 'description': 'GEM-SARA Model, project RIESGOS',\n",
       " 'taxonomies': ['URM1',\n",
       "  'URM2',\n",
       "  'CM',\n",
       "  'RM',\n",
       "  'RC1',\n",
       "  'RC2',\n",
       "  'RC3',\n",
       "  'RC4',\n",
       "  'RCPC1',\n",
       "  'RCPC464',\n",
       "  'RCPC2',\n",
       "  'RCPC111',\n",
       "  'ADO',\n",
       "  'WOOD1',\n",
       "  'WOOD2',\n",
       "  'STEEL'],\n",
       " 'limit_states': ['D1', 'D2', 'D3', 'D4', 'D5'],\n",
       " 'no_damage': 'D0'}"
      ]
     },
     "execution_count": 250,
     "metadata": {},
     "output_type": "execute_result"
    }
   ],
   "source": [
    "model.metadata"
   ]
  },
  {
   "cell_type": "code",
   "execution_count": null,
   "metadata": {},
   "outputs": [],
   "source": []
  },
  {
   "cell_type": "code",
   "execution_count": 178,
   "metadata": {},
   "outputs": [],
   "source": []
  }
 ],
 "metadata": {
  "kernelspec": {
   "display_name": "Python 3",
   "language": "python",
   "name": "python3"
  },
  "language_info": {
   "codemirror_mode": {
    "name": "ipython",
    "version": 3
   },
   "file_extension": ".py",
   "mimetype": "text/x-python",
   "name": "python",
   "nbconvert_exporter": "python",
   "pygments_lexer": "ipython3",
   "version": "3.7.0"
  }
 },
 "nbformat": 4,
 "nbformat_minor": 2
}
